{
 "cells": [
  {
   "cell_type": "code",
   "execution_count": 3,
   "id": "1ef7f88f",
   "metadata": {},
   "outputs": [],
   "source": [
    "# Importing all necessary libraries\n",
    "\n",
    "import numpy as np\n",
    "import pandas as pd\n",
    "import matplotlib.pyplot as plt\n",
    "import seaborn as sns\n",
    "from sklearn import preprocessing\n",
    "from sklearn.preprocessing import MinMaxScaler\n",
    "from sklearn.preprocessing import StandardScaler\n",
    "from sklearn.model_selection import train_test_split,cross_val_score\n",
    "from sklearn.linear_model import LogisticRegression\n",
    "from sklearn.metrics import recall_score,f1_score,accuracy_score,precision_score,roc_auc_score,confusion_matrix,roc_curve"
   ]
  },
  {
   "cell_type": "code",
   "execution_count": 5,
   "id": "8a06c46c",
   "metadata": {},
   "outputs": [
    {
     "data": {
      "text/html": [
       "<div>\n",
       "<style scoped>\n",
       "    .dataframe tbody tr th:only-of-type {\n",
       "        vertical-align: middle;\n",
       "    }\n",
       "\n",
       "    .dataframe tbody tr th {\n",
       "        vertical-align: top;\n",
       "    }\n",
       "\n",
       "    .dataframe thead th {\n",
       "        text-align: right;\n",
       "    }\n",
       "</style>\n",
       "<table border=\"1\" class=\"dataframe\">\n",
       "  <thead>\n",
       "    <tr style=\"text-align: right;\">\n",
       "      <th></th>\n",
       "      <th>CustomerID</th>\n",
       "      <th>Name</th>\n",
       "      <th>Age</th>\n",
       "      <th>Gender</th>\n",
       "      <th>Location</th>\n",
       "      <th>Subscription_Length_Months</th>\n",
       "      <th>Monthly_Bill</th>\n",
       "      <th>Total_Usage_GB</th>\n",
       "      <th>Churn</th>\n",
       "    </tr>\n",
       "  </thead>\n",
       "  <tbody>\n",
       "    <tr>\n",
       "      <th>0</th>\n",
       "      <td>1</td>\n",
       "      <td>Customer_1</td>\n",
       "      <td>63</td>\n",
       "      <td>Male</td>\n",
       "      <td>Los Angeles</td>\n",
       "      <td>17</td>\n",
       "      <td>73.36</td>\n",
       "      <td>236</td>\n",
       "      <td>0</td>\n",
       "    </tr>\n",
       "    <tr>\n",
       "      <th>1</th>\n",
       "      <td>2</td>\n",
       "      <td>Customer_2</td>\n",
       "      <td>62</td>\n",
       "      <td>Female</td>\n",
       "      <td>New York</td>\n",
       "      <td>1</td>\n",
       "      <td>48.76</td>\n",
       "      <td>172</td>\n",
       "      <td>0</td>\n",
       "    </tr>\n",
       "    <tr>\n",
       "      <th>2</th>\n",
       "      <td>3</td>\n",
       "      <td>Customer_3</td>\n",
       "      <td>24</td>\n",
       "      <td>Female</td>\n",
       "      <td>Los Angeles</td>\n",
       "      <td>5</td>\n",
       "      <td>85.47</td>\n",
       "      <td>460</td>\n",
       "      <td>0</td>\n",
       "    </tr>\n",
       "    <tr>\n",
       "      <th>3</th>\n",
       "      <td>4</td>\n",
       "      <td>Customer_4</td>\n",
       "      <td>36</td>\n",
       "      <td>Female</td>\n",
       "      <td>Miami</td>\n",
       "      <td>3</td>\n",
       "      <td>97.94</td>\n",
       "      <td>297</td>\n",
       "      <td>1</td>\n",
       "    </tr>\n",
       "    <tr>\n",
       "      <th>4</th>\n",
       "      <td>5</td>\n",
       "      <td>Customer_5</td>\n",
       "      <td>46</td>\n",
       "      <td>Female</td>\n",
       "      <td>Miami</td>\n",
       "      <td>19</td>\n",
       "      <td>58.14</td>\n",
       "      <td>266</td>\n",
       "      <td>0</td>\n",
       "    </tr>\n",
       "  </tbody>\n",
       "</table>\n",
       "</div>"
      ],
      "text/plain": [
       "   CustomerID        Name  Age  Gender     Location  \\\n",
       "0           1  Customer_1   63    Male  Los Angeles   \n",
       "1           2  Customer_2   62  Female     New York   \n",
       "2           3  Customer_3   24  Female  Los Angeles   \n",
       "3           4  Customer_4   36  Female        Miami   \n",
       "4           5  Customer_5   46  Female        Miami   \n",
       "\n",
       "   Subscription_Length_Months  Monthly_Bill  Total_Usage_GB  Churn  \n",
       "0                          17         73.36             236      0  \n",
       "1                           1         48.76             172      0  \n",
       "2                           5         85.47             460      0  \n",
       "3                           3         97.94             297      1  \n",
       "4                          19         58.14             266      0  "
      ]
     },
     "execution_count": 5,
     "metadata": {},
     "output_type": "execute_result"
    }
   ],
   "source": [
    "# Loading Dataset\n",
    "\n",
    "Df = pd.read_csv(\"customer_churn_large_dataset.csv\")\n",
    "Df.head()"
   ]
  },
  {
   "cell_type": "code",
   "execution_count": 6,
   "id": "2defa13a",
   "metadata": {},
   "outputs": [
    {
     "data": {
      "text/plain": [
       "(100000, 9)"
      ]
     },
     "execution_count": 6,
     "metadata": {},
     "output_type": "execute_result"
    }
   ],
   "source": [
    "# Checking for shape\n",
    "Df.shape"
   ]
  },
  {
   "cell_type": "code",
   "execution_count": 7,
   "id": "b5f768cc",
   "metadata": {},
   "outputs": [
    {
     "name": "stdout",
     "output_type": "stream",
     "text": [
      "<class 'pandas.core.frame.DataFrame'>\n",
      "RangeIndex: 100000 entries, 0 to 99999\n",
      "Data columns (total 9 columns):\n",
      " #   Column                      Non-Null Count   Dtype  \n",
      "---  ------                      --------------   -----  \n",
      " 0   CustomerID                  100000 non-null  int64  \n",
      " 1   Name                        100000 non-null  object \n",
      " 2   Age                         100000 non-null  int64  \n",
      " 3   Gender                      100000 non-null  object \n",
      " 4   Location                    100000 non-null  object \n",
      " 5   Subscription_Length_Months  100000 non-null  int64  \n",
      " 6   Monthly_Bill                100000 non-null  float64\n",
      " 7   Total_Usage_GB              100000 non-null  int64  \n",
      " 8   Churn                       100000 non-null  int64  \n",
      "dtypes: float64(1), int64(5), object(3)\n",
      "memory usage: 6.9+ MB\n"
     ]
    }
   ],
   "source": [
    "# Information of dataset\n",
    "Df.info()"
   ]
  },
  {
   "cell_type": "code",
   "execution_count": 8,
   "id": "75ff9267",
   "metadata": {},
   "outputs": [
    {
     "data": {
      "text/html": [
       "<div>\n",
       "<style scoped>\n",
       "    .dataframe tbody tr th:only-of-type {\n",
       "        vertical-align: middle;\n",
       "    }\n",
       "\n",
       "    .dataframe tbody tr th {\n",
       "        vertical-align: top;\n",
       "    }\n",
       "\n",
       "    .dataframe thead th {\n",
       "        text-align: right;\n",
       "    }\n",
       "</style>\n",
       "<table border=\"1\" class=\"dataframe\">\n",
       "  <thead>\n",
       "    <tr style=\"text-align: right;\">\n",
       "      <th></th>\n",
       "      <th>CustomerID</th>\n",
       "      <th>Age</th>\n",
       "      <th>Subscription_Length_Months</th>\n",
       "      <th>Monthly_Bill</th>\n",
       "      <th>Total_Usage_GB</th>\n",
       "      <th>Churn</th>\n",
       "    </tr>\n",
       "  </thead>\n",
       "  <tbody>\n",
       "    <tr>\n",
       "      <th>count</th>\n",
       "      <td>100000.000000</td>\n",
       "      <td>100000.000000</td>\n",
       "      <td>100000.000000</td>\n",
       "      <td>100000.000000</td>\n",
       "      <td>100000.000000</td>\n",
       "      <td>100000.000000</td>\n",
       "    </tr>\n",
       "    <tr>\n",
       "      <th>mean</th>\n",
       "      <td>50000.500000</td>\n",
       "      <td>44.027020</td>\n",
       "      <td>12.490100</td>\n",
       "      <td>65.053197</td>\n",
       "      <td>274.393650</td>\n",
       "      <td>0.497790</td>\n",
       "    </tr>\n",
       "    <tr>\n",
       "      <th>std</th>\n",
       "      <td>28867.657797</td>\n",
       "      <td>15.280283</td>\n",
       "      <td>6.926461</td>\n",
       "      <td>20.230696</td>\n",
       "      <td>130.463063</td>\n",
       "      <td>0.499998</td>\n",
       "    </tr>\n",
       "    <tr>\n",
       "      <th>min</th>\n",
       "      <td>1.000000</td>\n",
       "      <td>18.000000</td>\n",
       "      <td>1.000000</td>\n",
       "      <td>30.000000</td>\n",
       "      <td>50.000000</td>\n",
       "      <td>0.000000</td>\n",
       "    </tr>\n",
       "    <tr>\n",
       "      <th>25%</th>\n",
       "      <td>25000.750000</td>\n",
       "      <td>31.000000</td>\n",
       "      <td>6.000000</td>\n",
       "      <td>47.540000</td>\n",
       "      <td>161.000000</td>\n",
       "      <td>0.000000</td>\n",
       "    </tr>\n",
       "    <tr>\n",
       "      <th>50%</th>\n",
       "      <td>50000.500000</td>\n",
       "      <td>44.000000</td>\n",
       "      <td>12.000000</td>\n",
       "      <td>65.010000</td>\n",
       "      <td>274.000000</td>\n",
       "      <td>0.000000</td>\n",
       "    </tr>\n",
       "    <tr>\n",
       "      <th>75%</th>\n",
       "      <td>75000.250000</td>\n",
       "      <td>57.000000</td>\n",
       "      <td>19.000000</td>\n",
       "      <td>82.640000</td>\n",
       "      <td>387.000000</td>\n",
       "      <td>1.000000</td>\n",
       "    </tr>\n",
       "    <tr>\n",
       "      <th>max</th>\n",
       "      <td>100000.000000</td>\n",
       "      <td>70.000000</td>\n",
       "      <td>24.000000</td>\n",
       "      <td>100.000000</td>\n",
       "      <td>500.000000</td>\n",
       "      <td>1.000000</td>\n",
       "    </tr>\n",
       "  </tbody>\n",
       "</table>\n",
       "</div>"
      ],
      "text/plain": [
       "          CustomerID            Age  Subscription_Length_Months  \\\n",
       "count  100000.000000  100000.000000               100000.000000   \n",
       "mean    50000.500000      44.027020                   12.490100   \n",
       "std     28867.657797      15.280283                    6.926461   \n",
       "min         1.000000      18.000000                    1.000000   \n",
       "25%     25000.750000      31.000000                    6.000000   \n",
       "50%     50000.500000      44.000000                   12.000000   \n",
       "75%     75000.250000      57.000000                   19.000000   \n",
       "max    100000.000000      70.000000                   24.000000   \n",
       "\n",
       "        Monthly_Bill  Total_Usage_GB          Churn  \n",
       "count  100000.000000   100000.000000  100000.000000  \n",
       "mean       65.053197      274.393650       0.497790  \n",
       "std        20.230696      130.463063       0.499998  \n",
       "min        30.000000       50.000000       0.000000  \n",
       "25%        47.540000      161.000000       0.000000  \n",
       "50%        65.010000      274.000000       0.000000  \n",
       "75%        82.640000      387.000000       1.000000  \n",
       "max       100.000000      500.000000       1.000000  "
      ]
     },
     "execution_count": 8,
     "metadata": {},
     "output_type": "execute_result"
    }
   ],
   "source": [
    "# summarizing the data\n",
    "Df.describe()"
   ]
  },
  {
   "cell_type": "code",
   "execution_count": 9,
   "id": "38ddcd4c",
   "metadata": {},
   "outputs": [
    {
     "data": {
      "text/plain": [
       "CustomerID                    0\n",
       "Name                          0\n",
       "Age                           0\n",
       "Gender                        0\n",
       "Location                      0\n",
       "Subscription_Length_Months    0\n",
       "Monthly_Bill                  0\n",
       "Total_Usage_GB                0\n",
       "Churn                         0\n",
       "dtype: int64"
      ]
     },
     "execution_count": 9,
     "metadata": {},
     "output_type": "execute_result"
    }
   ],
   "source": [
    "# Checking for null Values\n",
    "Df.isnull().sum()"
   ]
  },
  {
   "cell_type": "markdown",
   "id": "a079fd08",
   "metadata": {},
   "source": [
    "There is no null values in the provided dataset."
   ]
  },
  {
   "cell_type": "code",
   "execution_count": 10,
   "id": "783afccf",
   "metadata": {},
   "outputs": [
    {
     "data": {
      "text/plain": [
       "Houston        20157\n",
       "Los Angeles    20041\n",
       "Miami          20031\n",
       "Chicago        19958\n",
       "New York       19813\n",
       "Name: Location, dtype: int64"
      ]
     },
     "execution_count": 10,
     "metadata": {},
     "output_type": "execute_result"
    }
   ],
   "source": [
    "Df['Location'].value_counts()# Shows the counts of each value present in column"
   ]
  },
  {
   "cell_type": "code",
   "execution_count": 14,
   "id": "e21e1242",
   "metadata": {},
   "outputs": [
    {
     "name": "stdout",
     "output_type": "stream",
     "text": [
      "1         1\n",
      "66651     1\n",
      "66673     1\n",
      "66672     1\n",
      "66671     1\n",
      "         ..\n",
      "33332     1\n",
      "33331     1\n",
      "33330     1\n",
      "33329     1\n",
      "100000    1\n",
      "Name: CustomerID, Length: 100000, dtype: int64\n",
      "---------------------------\n",
      "Customer_1         1\n",
      "Customer_66651     1\n",
      "Customer_66673     1\n",
      "Customer_66672     1\n",
      "Customer_66671     1\n",
      "                  ..\n",
      "Customer_33332     1\n",
      "Customer_33331     1\n",
      "Customer_33330     1\n",
      "Customer_33329     1\n",
      "Customer_100000    1\n",
      "Name: Name, Length: 100000, dtype: int64\n",
      "---------------------------\n",
      "33    2046\n",
      "50    1996\n",
      "38    1970\n",
      "63    1942\n",
      "57    1942\n",
      "19    1941\n",
      "41    1939\n",
      "42    1930\n",
      "51    1929\n",
      "59    1928\n",
      "27    1924\n",
      "66    1922\n",
      "70    1921\n",
      "44    1916\n",
      "69    1912\n",
      "61    1909\n",
      "60    1904\n",
      "31    1901\n",
      "55    1900\n",
      "21    1897\n",
      "54    1896\n",
      "53    1895\n",
      "48    1895\n",
      "39    1891\n",
      "23    1887\n",
      "20    1886\n",
      "29    1885\n",
      "28    1881\n",
      "24    1876\n",
      "58    1876\n",
      "40    1875\n",
      "30    1875\n",
      "26    1874\n",
      "56    1872\n",
      "25    1871\n",
      "37    1870\n",
      "62    1867\n",
      "46    1865\n",
      "68    1863\n",
      "43    1863\n",
      "36    1859\n",
      "49    1854\n",
      "64    1848\n",
      "47    1847\n",
      "35    1845\n",
      "18    1839\n",
      "65    1833\n",
      "45    1827\n",
      "52    1824\n",
      "32    1810\n",
      "67    1798\n",
      "34    1797\n",
      "22    1787\n",
      "Name: Age, dtype: int64\n",
      "---------------------------\n",
      "Female    50216\n",
      "Male      49784\n",
      "Name: Gender, dtype: int64\n",
      "---------------------------\n",
      "Houston        20157\n",
      "Los Angeles    20041\n",
      "Miami          20031\n",
      "Chicago        19958\n",
      "New York       19813\n",
      "Name: Location, dtype: int64\n",
      "---------------------------\n",
      "20    4303\n",
      "22    4267\n",
      "1     4247\n",
      "16    4229\n",
      "2     4228\n",
      "14    4213\n",
      "7     4211\n",
      "11    4200\n",
      "6     4184\n",
      "5     4171\n",
      "18    4171\n",
      "12    4155\n",
      "21    4154\n",
      "13    4154\n",
      "10    4151\n",
      "3     4136\n",
      "9     4134\n",
      "15    4122\n",
      "24    4113\n",
      "8     4106\n",
      "19    4106\n",
      "4     4098\n",
      "23    4083\n",
      "17    4064\n",
      "Name: Subscription_Length_Months, dtype: int64\n",
      "---------------------------\n",
      "84.37     34\n",
      "61.99     29\n",
      "38.26     28\n",
      "66.38     28\n",
      "56.17     28\n",
      "          ..\n",
      "77.04      4\n",
      "91.04      3\n",
      "64.01      3\n",
      "36.55      3\n",
      "100.00     3\n",
      "Name: Monthly_Bill, Length: 7001, dtype: int64\n",
      "---------------------------\n",
      "72     270\n",
      "232    261\n",
      "86     260\n",
      "218    259\n",
      "153    256\n",
      "      ... \n",
      "174    187\n",
      "328    187\n",
      "418    186\n",
      "180    173\n",
      "390    172\n",
      "Name: Total_Usage_GB, Length: 451, dtype: int64\n",
      "---------------------------\n",
      "0    50221\n",
      "1    49779\n",
      "Name: Churn, dtype: int64\n",
      "---------------------------\n"
     ]
    }
   ],
   "source": [
    "# Checking for noise values\n",
    "# function for noise values in each categorical data\n",
    "\n",
    "for cols in list(Df.columns):\n",
    "    print(round(Df[cols].value_counts()))\n",
    "    print(\"---------------------------\")"
   ]
  },
  {
   "cell_type": "markdown",
   "id": "c8122332",
   "metadata": {},
   "source": [
    "There is no noise values present in the given dataset."
   ]
  },
  {
   "cell_type": "code",
   "execution_count": 15,
   "id": "3e64a4b9",
   "metadata": {},
   "outputs": [],
   "source": [
    "Df1 =Df.copy() # copying the dataset"
   ]
  },
  {
   "cell_type": "code",
   "execution_count": 16,
   "id": "5e17bf47",
   "metadata": {},
   "outputs": [
    {
     "data": {
      "text/plain": [
       "CustomerID                      int64\n",
       "Name                           object\n",
       "Age                             int64\n",
       "Gender                         object\n",
       "Location                       object\n",
       "Subscription_Length_Months      int64\n",
       "Monthly_Bill                  float64\n",
       "Total_Usage_GB                  int64\n",
       "Churn                           int64\n",
       "dtype: object"
      ]
     },
     "execution_count": 16,
     "metadata": {},
     "output_type": "execute_result"
    }
   ],
   "source": [
    "# datatypes of all columns\n",
    "Df.dtypes"
   ]
  },
  {
   "cell_type": "code",
   "execution_count": 18,
   "id": "801d2217",
   "metadata": {},
   "outputs": [],
   "source": [
    "# Feature Scaling \n",
    "#Changing the object data type to categorical and then numerical\n",
    "\n",
    "\n",
    "Df1.Location=Df1.Location.astype('category')\n",
    "Df1.Gender=Df1.Gender.astype('category')\n",
    "\n",
    "#Label Encoding\n",
    "label_encoder = preprocessing.LabelEncoder()\n",
    "Df1['Location']=label_encoder.fit_transform(Df1['Location'])\n",
    "Df1['Gender']=label_encoder.fit_transform(Df1['Gender'])\n"
   ]
  },
  {
   "cell_type": "code",
   "execution_count": 19,
   "id": "34f1f431",
   "metadata": {},
   "outputs": [
    {
     "data": {
      "text/html": [
       "<div>\n",
       "<style scoped>\n",
       "    .dataframe tbody tr th:only-of-type {\n",
       "        vertical-align: middle;\n",
       "    }\n",
       "\n",
       "    .dataframe tbody tr th {\n",
       "        vertical-align: top;\n",
       "    }\n",
       "\n",
       "    .dataframe thead th {\n",
       "        text-align: right;\n",
       "    }\n",
       "</style>\n",
       "<table border=\"1\" class=\"dataframe\">\n",
       "  <thead>\n",
       "    <tr style=\"text-align: right;\">\n",
       "      <th></th>\n",
       "      <th>Name</th>\n",
       "      <th>Age</th>\n",
       "      <th>Gender</th>\n",
       "      <th>Location</th>\n",
       "      <th>Subscription_Length_Months</th>\n",
       "      <th>Monthly_Bill</th>\n",
       "      <th>Total_Usage_GB</th>\n",
       "      <th>Churn</th>\n",
       "    </tr>\n",
       "  </thead>\n",
       "  <tbody>\n",
       "    <tr>\n",
       "      <th>0</th>\n",
       "      <td>Customer_1</td>\n",
       "      <td>63</td>\n",
       "      <td>1</td>\n",
       "      <td>2</td>\n",
       "      <td>17</td>\n",
       "      <td>73.36</td>\n",
       "      <td>236</td>\n",
       "      <td>0</td>\n",
       "    </tr>\n",
       "    <tr>\n",
       "      <th>1</th>\n",
       "      <td>Customer_2</td>\n",
       "      <td>62</td>\n",
       "      <td>0</td>\n",
       "      <td>4</td>\n",
       "      <td>1</td>\n",
       "      <td>48.76</td>\n",
       "      <td>172</td>\n",
       "      <td>0</td>\n",
       "    </tr>\n",
       "    <tr>\n",
       "      <th>2</th>\n",
       "      <td>Customer_3</td>\n",
       "      <td>24</td>\n",
       "      <td>0</td>\n",
       "      <td>2</td>\n",
       "      <td>5</td>\n",
       "      <td>85.47</td>\n",
       "      <td>460</td>\n",
       "      <td>0</td>\n",
       "    </tr>\n",
       "    <tr>\n",
       "      <th>3</th>\n",
       "      <td>Customer_4</td>\n",
       "      <td>36</td>\n",
       "      <td>0</td>\n",
       "      <td>3</td>\n",
       "      <td>3</td>\n",
       "      <td>97.94</td>\n",
       "      <td>297</td>\n",
       "      <td>1</td>\n",
       "    </tr>\n",
       "    <tr>\n",
       "      <th>4</th>\n",
       "      <td>Customer_5</td>\n",
       "      <td>46</td>\n",
       "      <td>0</td>\n",
       "      <td>3</td>\n",
       "      <td>19</td>\n",
       "      <td>58.14</td>\n",
       "      <td>266</td>\n",
       "      <td>0</td>\n",
       "    </tr>\n",
       "  </tbody>\n",
       "</table>\n",
       "</div>"
      ],
      "text/plain": [
       "         Name  Age  Gender  Location  Subscription_Length_Months  \\\n",
       "0  Customer_1   63       1         2                          17   \n",
       "1  Customer_2   62       0         4                           1   \n",
       "2  Customer_3   24       0         2                           5   \n",
       "3  Customer_4   36       0         3                           3   \n",
       "4  Customer_5   46       0         3                          19   \n",
       "\n",
       "   Monthly_Bill  Total_Usage_GB  Churn  \n",
       "0         73.36             236      0  \n",
       "1         48.76             172      0  \n",
       "2         85.47             460      0  \n",
       "3         97.94             297      1  \n",
       "4         58.14             266      0  "
      ]
     },
     "execution_count": 19,
     "metadata": {},
     "output_type": "execute_result"
    }
   ],
   "source": [
    "# Dropping the cus_id column\n",
    "# Because it doesnt show much impact for prediction\n",
    "Df1.drop(['CustomerID'],axis=1,inplace = True )\n",
    "Df1.head()"
   ]
  },
  {
   "cell_type": "markdown",
   "id": "35e071ca",
   "metadata": {},
   "source": [
    "## EDA"
   ]
  },
  {
   "cell_type": "code",
   "execution_count": 23,
   "id": "412a24c1",
   "metadata": {},
   "outputs": [
    {
     "data": {
      "image/png": "[encoded data removed]",
      "text/plain": [
       "<Figure size 864x360 with 2 Axes>"
      ]
     },
     "metadata": {
      "needs_background": "light"
     },
     "output_type": "display_data"
    }
   ],
   "source": [
    "# creditscore of customers:\n",
    "plt.figure(figsize=(12,5))\n",
    "plt.subplot(121)\n",
    "sns.kdeplot(data=Df[Df['Churn']==1],x='Monthly_Bill',shade=True)\n",
    "plt.xticks(rotation='90')\n",
    "plt.title(\"Churned customers\")\n",
    "\n",
    "plt.subplot(122)\n",
    "sns.kdeplot(data=Df[Df['Churn']==0],x='Monthly_Bill',shade=True)\n",
    "plt.xticks(rotation='90')\n",
    "plt.title(\"Retained customers\")\n",
    "\n",
    "plt.show()"
   ]
  },
  {
   "cell_type": "markdown",
   "id": "9f1c236b",
   "metadata": {},
   "source": [
    "Interpretation : Both churned and retained are same in this dataset."
   ]
  },
  {
   "cell_type": "code",
   "execution_count": 128,
   "id": "a4487fda",
   "metadata": {},
   "outputs": [
    {
     "data": {
      "image/png": "[encoded data removed]",
      "text/plain": [
       "<Figure size 432x288 with 1 Axes>"
      ]
     },
     "metadata": {
      "needs_background": "light"
     },
     "output_type": "display_data"
    }
   ],
   "source": [
    "#Location wise count\n",
    "sns.countplot(data=Df,x='Location')\n",
    "plt.show()"
   ]
  },
  {
   "cell_type": "code",
   "execution_count": 25,
   "id": "ee052456",
   "metadata": {},
   "outputs": [
    {
     "data": {
      "text/plain": [
       "<AxesSubplot:xlabel='Location', ylabel='count'>"
      ]
     },
     "execution_count": 25,
     "metadata": {},
     "output_type": "execute_result"
    },
    {
     "data": {
      "image/png": "[encoded data removed]",
      "text/plain": [
       "<Figure size 432x288 with 1 Axes>"
      ]
     },
     "metadata": {
      "needs_background": "light"
     },
     "output_type": "display_data"
    }
   ],
   "source": [
    "#Location wise churn :\n",
    "sns.countplot(data=Df,x='Location',hue='Churn')\n",
    "plt.chow()"
   ]
  },
  {
   "cell_type": "code",
   "execution_count": 27,
   "id": "3dfbd9e9",
   "metadata": {},
   "outputs": [
    {
     "name": "stdout",
     "output_type": "stream",
     "text": [
      "Churn Rate: 49.78%\n"
     ]
    }
   ],
   "source": [
    "# Churn rate \n",
    "churned_count = Df['Churn'].sum()\n",
    "total_customers = len(Df)\n",
    "\n",
    "churn_rate = churned_count / total_customers\n",
    "\n",
    "print(f\"Churn Rate: {churn_rate * 100:.2f}%\")"
   ]
  },
  {
   "cell_type": "code",
   "execution_count": 29,
   "id": "3895a2cd",
   "metadata": {},
   "outputs": [
    {
     "name": "stdout",
     "output_type": "stream",
     "text": [
      "Gender\n",
      "Female    0.496734\n",
      "Male      0.498855\n",
      "Name: Churn, dtype: float64\n"
     ]
    }
   ],
   "source": [
    "#Is there any difference in churn rates between genders?\n",
    "\n",
    "gender_churn_rates = Df.groupby('Gender')['Churn'].mean()\n",
    "\n",
    "print(gender_churn_rates)"
   ]
  },
  {
   "cell_type": "code",
   "execution_count": 31,
   "id": "48bbe44c",
   "metadata": {},
   "outputs": [
    {
     "name": "stdout",
     "output_type": "stream",
     "text": [
      "Location\n",
      "New York       0.503659\n",
      "Miami          0.503020\n",
      "Chicago        0.498296\n",
      "Los Angeles    0.492989\n",
      "Houston        0.491095\n",
      "Name: Churn, dtype: float64\n"
     ]
    }
   ],
   "source": [
    "# Are customers from specific locations more likely to churn?\n",
    "location_churn_rates = Df.groupby('Location')['Churn'].mean()\n",
    "\n",
    "# Sort the locations by churn rate in descending order to identify which locations have the highest churn rates\n",
    "sorted_location_churn_rates = location_churn_rates.sort_values(ascending=False)\n",
    "\n",
    "print(sorted_location_churn_rates)"
   ]
  },
  {
   "cell_type": "code",
   "execution_count": 34,
   "id": "84f5808b",
   "metadata": {},
   "outputs": [
    {
     "data": {
      "image/png": "[encoded data removed]",
      "text/plain": [
       "<Figure size 432x288 with 1 Axes>"
      ]
     },
     "metadata": {
      "needs_background": "light"
     },
     "output_type": "display_data"
    },
    {
     "name": "stdout",
     "output_type": "stream",
     "text": [
      "Churn\n",
      "0    12.474045\n",
      "1    12.506298\n",
      "Name: Subscription_Length_Months, dtype: float64\n"
     ]
    }
   ],
   "source": [
    "# Relationship Between Churn and Subscription Length:\n",
    "subscription_length_by_churn = Df.groupby('Churn')['Subscription_Length_Months'].mean()\n",
    "# Visualize the relationship using a bar plot\n",
    "sns.barplot(x='Churn', y='Subscription_Length_Months', data=Df)\n",
    "plt.title('Average Subscription Length by Churn')\n",
    "plt.show()\n",
    "\n",
    "print(subscription_length_by_churn)"
   ]
  },
  {
   "cell_type": "code",
   "execution_count": 35,
   "id": "d4cdeda8",
   "metadata": {},
   "outputs": [
    {
     "data": {
      "image/png": "[encoded data removed]",
      "text/plain": [
       "<Figure size 432x288 with 1 Axes>"
      ]
     },
     "metadata": {
      "needs_background": "light"
     },
     "output_type": "display_data"
    }
   ],
   "source": [
    "# Relationship Between Churn and Monthly Bill Amount\n",
    "# Calculate average monthly bill amount for churned and non-churned customers\n",
    "monthly_bill_by_churn = Df.groupby('Churn')['Monthly_Bill'].mean()\n",
    "\n",
    "# Visualize the relationship using a bar plot\n",
    "sns.barplot(x='Churn', y='Monthly_Bill', data=Df)\n",
    "plt.title('Average Monthly Bill by Churn')\n",
    "plt.show()"
   ]
  },
  {
   "cell_type": "code",
   "execution_count": 36,
   "id": "b46a28bb",
   "metadata": {},
   "outputs": [
    {
     "data": {
      "image/png": "[encoded data removed]",
      "text/plain": [
       "<Figure size 432x288 with 1 Axes>"
      ]
     },
     "metadata": {
      "needs_background": "light"
     },
     "output_type": "display_data"
    },
    {
     "name": "stdout",
     "output_type": "stream",
     "text": [
      "Churn\n",
      "0    274.762729\n",
      "1    274.021294\n",
      "Name: Total_Usage_GB, dtype: float64\n"
     ]
    }
   ],
   "source": [
    "# Relationship Between Churn and Total Data Usage:\n",
    "\n",
    "# Calculate average total data usage for churned and non-churned customers\n",
    "data_usage_by_churn = Df.groupby('Churn')['Total_Usage_GB'].mean()\n",
    "\n",
    "# Visualize the relationship using a bar plot\n",
    "sns.barplot(x='Churn', y='Total_Usage_GB', data=Df)\n",
    "plt.title('Average Total Data Usage by Churn')\n",
    "plt.show()\n",
    "\n",
    "print(data_usage_by_churn)"
   ]
  },
  {
   "cell_type": "code",
   "execution_count": 39,
   "id": "93617dc0",
   "metadata": {},
   "outputs": [
    {
     "data": {
      "image/png": "[encoded data removed]",
      "text/plain": [
       "<Figure size 864x576 with 4 Axes>"
      ]
     },
     "metadata": {
      "needs_background": "light"
     },
     "output_type": "display_data"
    }
   ],
   "source": [
    "# Plot histograms for numerical variables\n",
    "numerical_columns = ['Age', 'Monthly_Bill', 'Subscription_Length_Months', 'Total_Usage_GB']\n",
    "\n",
    "plt.figure(figsize=(12, 8))\n",
    "for i, col in enumerate(numerical_columns, 1):\n",
    "    plt.subplot(2, 2, i)\n",
    "    sns.histplot(Df[col], kde=True)\n",
    "    plt.title(f'Distribution of {col}')\n",
    "plt.tight_layout()\n",
    "plt.show()"
   ]
  },
  {
   "cell_type": "markdown",
   "id": "0e125396",
   "metadata": {},
   "source": [
    "The data was not in normal dostribution so we can use minmax scaler to normalize data in further process."
   ]
  },
  {
   "cell_type": "code",
   "execution_count": 40,
   "id": "f1594689",
   "metadata": {},
   "outputs": [
    {
     "data": {
      "image/png": "[encoded data removed]",
      "text/plain": [
       "<Figure size 864x360 with 2 Axes>"
      ]
     },
     "metadata": {
      "needs_background": "light"
     },
     "output_type": "display_data"
    }
   ],
   "source": [
    "# Plot bar plots for Gender distribution\n",
    "plt.figure(figsize=(12, 5))\n",
    "plt.subplot(1, 2, 1)\n",
    "sns.countplot(data=Df, x='Gender')\n",
    "plt.title('Gender Distribution')\n",
    "\n",
    "# Plot pie chart for Location distribution\n",
    "plt.subplot(1, 2, 2)\n",
    "location_counts = Df['Location'].value_counts()\n",
    "plt.pie(location_counts, labels=location_counts.index, autopct='%1.1f%%', startangle=90)\n",
    "plt.title('Location Distribution')\n",
    "plt.axis('equal')  # Equal aspect ratio ensures that pie chart is a circle.\n",
    "\n",
    "plt.tight_layout()\n",
    "plt.show()\n"
   ]
  },
  {
   "cell_type": "markdown",
   "id": "ad9ebc96",
   "metadata": {},
   "source": [
    "The genders was in equal amount and aslo the dostributions of various locations are almost equal."
   ]
  },
  {
   "cell_type": "code",
   "execution_count": 109,
   "id": "74a29aa4",
   "metadata": {},
   "outputs": [],
   "source": [
    "# Dropping unnecessary columns: \n",
    "Df1.drop(['Churn'],axis=1,inplace=True)#Dropping target var\n",
    "Df1.drop(['Name'],axis=1,inplace=True)#dropping the names column\n",
    "Df1.drop(['Location'],axis=1,inplace=True)\n"
   ]
  },
  {
   "cell_type": "code",
   "execution_count": 110,
   "id": "8c5dd6fc",
   "metadata": {},
   "outputs": [
    {
     "data": {
      "text/html": [
       "<div>\n",
       "<style scoped>\n",
       "    .dataframe tbody tr th:only-of-type {\n",
       "        vertical-align: middle;\n",
       "    }\n",
       "\n",
       "    .dataframe tbody tr th {\n",
       "        vertical-align: top;\n",
       "    }\n",
       "\n",
       "    .dataframe thead th {\n",
       "        text-align: right;\n",
       "    }\n",
       "</style>\n",
       "<table border=\"1\" class=\"dataframe\">\n",
       "  <thead>\n",
       "    <tr style=\"text-align: right;\">\n",
       "      <th></th>\n",
       "      <th>Age</th>\n",
       "      <th>Gender</th>\n",
       "      <th>Subscription_Length_Months</th>\n",
       "      <th>Monthly_Bill</th>\n",
       "      <th>Total_Usage_GB</th>\n",
       "    </tr>\n",
       "  </thead>\n",
       "  <tbody>\n",
       "    <tr>\n",
       "      <th>0</th>\n",
       "      <td>63</td>\n",
       "      <td>1</td>\n",
       "      <td>17</td>\n",
       "      <td>73.36</td>\n",
       "      <td>236</td>\n",
       "    </tr>\n",
       "  </tbody>\n",
       "</table>\n",
       "</div>"
      ],
      "text/plain": [
       "   Age  Gender  Subscription_Length_Months  Monthly_Bill  Total_Usage_GB\n",
       "0   63       1                          17         73.36             236"
      ]
     },
     "execution_count": 110,
     "metadata": {},
     "output_type": "execute_result"
    }
   ],
   "source": [
    "Df1.head(1)"
   ]
  },
  {
   "cell_type": "code",
   "execution_count": 111,
   "id": "a96518e2",
   "metadata": {},
   "outputs": [],
   "source": [
    "# Feature Scaling\n",
    "scaler = MinMaxScaler()\n",
    "scaled_df = pd.DataFrame(scaler.fit_transform(Df1.to_numpy()),columns=Df1.columns)\n"
   ]
  },
  {
   "cell_type": "code",
   "execution_count": 112,
   "id": "0e0bb006",
   "metadata": {},
   "outputs": [
    {
     "data": {
      "text/html": [
       "<div>\n",
       "<style scoped>\n",
       "    .dataframe tbody tr th:only-of-type {\n",
       "        vertical-align: middle;\n",
       "    }\n",
       "\n",
       "    .dataframe tbody tr th {\n",
       "        vertical-align: top;\n",
       "    }\n",
       "\n",
       "    .dataframe thead th {\n",
       "        text-align: right;\n",
       "    }\n",
       "</style>\n",
       "<table border=\"1\" class=\"dataframe\">\n",
       "  <thead>\n",
       "    <tr style=\"text-align: right;\">\n",
       "      <th></th>\n",
       "      <th>Age</th>\n",
       "      <th>Gender</th>\n",
       "      <th>Subscription_Length_Months</th>\n",
       "      <th>Monthly_Bill</th>\n",
       "      <th>Total_Usage_GB</th>\n",
       "    </tr>\n",
       "  </thead>\n",
       "  <tbody>\n",
       "    <tr>\n",
       "      <th>0</th>\n",
       "      <td>0.865385</td>\n",
       "      <td>1.0</td>\n",
       "      <td>0.695652</td>\n",
       "      <td>0.619429</td>\n",
       "      <td>0.413333</td>\n",
       "    </tr>\n",
       "    <tr>\n",
       "      <th>1</th>\n",
       "      <td>0.846154</td>\n",
       "      <td>0.0</td>\n",
       "      <td>0.000000</td>\n",
       "      <td>0.268000</td>\n",
       "      <td>0.271111</td>\n",
       "    </tr>\n",
       "    <tr>\n",
       "      <th>2</th>\n",
       "      <td>0.115385</td>\n",
       "      <td>0.0</td>\n",
       "      <td>0.173913</td>\n",
       "      <td>0.792429</td>\n",
       "      <td>0.911111</td>\n",
       "    </tr>\n",
       "    <tr>\n",
       "      <th>3</th>\n",
       "      <td>0.346154</td>\n",
       "      <td>0.0</td>\n",
       "      <td>0.086957</td>\n",
       "      <td>0.970571</td>\n",
       "      <td>0.548889</td>\n",
       "    </tr>\n",
       "    <tr>\n",
       "      <th>4</th>\n",
       "      <td>0.538462</td>\n",
       "      <td>0.0</td>\n",
       "      <td>0.782609</td>\n",
       "      <td>0.402000</td>\n",
       "      <td>0.480000</td>\n",
       "    </tr>\n",
       "    <tr>\n",
       "      <th>...</th>\n",
       "      <td>...</td>\n",
       "      <td>...</td>\n",
       "      <td>...</td>\n",
       "      <td>...</td>\n",
       "      <td>...</td>\n",
       "    </tr>\n",
       "    <tr>\n",
       "      <th>99995</th>\n",
       "      <td>0.288462</td>\n",
       "      <td>1.0</td>\n",
       "      <td>0.956522</td>\n",
       "      <td>0.359000</td>\n",
       "      <td>0.391111</td>\n",
       "    </tr>\n",
       "    <tr>\n",
       "      <th>99996</th>\n",
       "      <td>0.846154</td>\n",
       "      <td>0.0</td>\n",
       "      <td>0.782609</td>\n",
       "      <td>0.452143</td>\n",
       "      <td>0.668889</td>\n",
       "    </tr>\n",
       "    <tr>\n",
       "      <th>99997</th>\n",
       "      <td>0.884615</td>\n",
       "      <td>1.0</td>\n",
       "      <td>0.695652</td>\n",
       "      <td>0.944429</td>\n",
       "      <td>0.446667</td>\n",
       "    </tr>\n",
       "    <tr>\n",
       "      <th>99998</th>\n",
       "      <td>0.634615</td>\n",
       "      <td>0.0</td>\n",
       "      <td>0.826087</td>\n",
       "      <td>0.275000</td>\n",
       "      <td>0.853333</td>\n",
       "    </tr>\n",
       "    <tr>\n",
       "      <th>99999</th>\n",
       "      <td>0.173077</td>\n",
       "      <td>0.0</td>\n",
       "      <td>0.782609</td>\n",
       "      <td>0.665286</td>\n",
       "      <td>0.273333</td>\n",
       "    </tr>\n",
       "  </tbody>\n",
       "</table>\n",
       "<p>100000 rows × 5 columns</p>\n",
       "</div>"
      ],
      "text/plain": [
       "            Age  Gender  Subscription_Length_Months  Monthly_Bill  \\\n",
       "0      0.865385     1.0                    0.695652      0.619429   \n",
       "1      0.846154     0.0                    0.000000      0.268000   \n",
       "2      0.115385     0.0                    0.173913      0.792429   \n",
       "3      0.346154     0.0                    0.086957      0.970571   \n",
       "4      0.538462     0.0                    0.782609      0.402000   \n",
       "...         ...     ...                         ...           ...   \n",
       "99995  0.288462     1.0                    0.956522      0.359000   \n",
       "99996  0.846154     0.0                    0.782609      0.452143   \n",
       "99997  0.884615     1.0                    0.695652      0.944429   \n",
       "99998  0.634615     0.0                    0.826087      0.275000   \n",
       "99999  0.173077     0.0                    0.782609      0.665286   \n",
       "\n",
       "       Total_Usage_GB  \n",
       "0            0.413333  \n",
       "1            0.271111  \n",
       "2            0.911111  \n",
       "3            0.548889  \n",
       "4            0.480000  \n",
       "...               ...  \n",
       "99995        0.391111  \n",
       "99996        0.668889  \n",
       "99997        0.446667  \n",
       "99998        0.853333  \n",
       "99999        0.273333  \n",
       "\n",
       "[100000 rows x 5 columns]"
      ]
     },
     "execution_count": 112,
     "metadata": {},
     "output_type": "execute_result"
    }
   ],
   "source": [
    "scaled_df"
   ]
  },
  {
   "cell_type": "code",
   "execution_count": 113,
   "id": "b035f15b",
   "metadata": {},
   "outputs": [
    {
     "data": {
      "text/html": [
       "<div>\n",
       "<style scoped>\n",
       "    .dataframe tbody tr th:only-of-type {\n",
       "        vertical-align: middle;\n",
       "    }\n",
       "\n",
       "    .dataframe tbody tr th {\n",
       "        vertical-align: top;\n",
       "    }\n",
       "\n",
       "    .dataframe thead th {\n",
       "        text-align: right;\n",
       "    }\n",
       "</style>\n",
       "<table border=\"1\" class=\"dataframe\">\n",
       "  <thead>\n",
       "    <tr style=\"text-align: right;\">\n",
       "      <th></th>\n",
       "      <th>Age</th>\n",
       "      <th>Gender</th>\n",
       "      <th>Subscription_Length_Months</th>\n",
       "      <th>Monthly_Bill</th>\n",
       "      <th>Total_Usage_GB</th>\n",
       "      <th>Churn</th>\n",
       "    </tr>\n",
       "  </thead>\n",
       "  <tbody>\n",
       "    <tr>\n",
       "      <th>0</th>\n",
       "      <td>0.865385</td>\n",
       "      <td>1.0</td>\n",
       "      <td>0.695652</td>\n",
       "      <td>0.619429</td>\n",
       "      <td>0.413333</td>\n",
       "      <td>0</td>\n",
       "    </tr>\n",
       "    <tr>\n",
       "      <th>1</th>\n",
       "      <td>0.846154</td>\n",
       "      <td>0.0</td>\n",
       "      <td>0.000000</td>\n",
       "      <td>0.268000</td>\n",
       "      <td>0.271111</td>\n",
       "      <td>0</td>\n",
       "    </tr>\n",
       "    <tr>\n",
       "      <th>2</th>\n",
       "      <td>0.115385</td>\n",
       "      <td>0.0</td>\n",
       "      <td>0.173913</td>\n",
       "      <td>0.792429</td>\n",
       "      <td>0.911111</td>\n",
       "      <td>0</td>\n",
       "    </tr>\n",
       "    <tr>\n",
       "      <th>3</th>\n",
       "      <td>0.346154</td>\n",
       "      <td>0.0</td>\n",
       "      <td>0.086957</td>\n",
       "      <td>0.970571</td>\n",
       "      <td>0.548889</td>\n",
       "      <td>1</td>\n",
       "    </tr>\n",
       "    <tr>\n",
       "      <th>4</th>\n",
       "      <td>0.538462</td>\n",
       "      <td>0.0</td>\n",
       "      <td>0.782609</td>\n",
       "      <td>0.402000</td>\n",
       "      <td>0.480000</td>\n",
       "      <td>0</td>\n",
       "    </tr>\n",
       "  </tbody>\n",
       "</table>\n",
       "</div>"
      ],
      "text/plain": [
       "        Age  Gender  Subscription_Length_Months  Monthly_Bill  Total_Usage_GB  \\\n",
       "0  0.865385     1.0                    0.695652      0.619429        0.413333   \n",
       "1  0.846154     0.0                    0.000000      0.268000        0.271111   \n",
       "2  0.115385     0.0                    0.173913      0.792429        0.911111   \n",
       "3  0.346154     0.0                    0.086957      0.970571        0.548889   \n",
       "4  0.538462     0.0                    0.782609      0.402000        0.480000   \n",
       "\n",
       "   Churn  \n",
       "0      0  \n",
       "1      0  \n",
       "2      0  \n",
       "3      1  \n",
       "4      0  "
      ]
     },
     "execution_count": 113,
     "metadata": {},
     "output_type": "execute_result"
    }
   ],
   "source": [
    "# adding target to scaled data\n",
    "scaled_df['Churn'] = Df['Churn']\n",
    "scaled_df.head()"
   ]
  },
  {
   "cell_type": "code",
   "execution_count": 114,
   "id": "228b8be9",
   "metadata": {},
   "outputs": [],
   "source": [
    "# Correlation\n",
    "corr = Df.corr()"
   ]
  },
  {
   "cell_type": "code",
   "execution_count": 115,
   "id": "4d69abf8",
   "metadata": {},
   "outputs": [
    {
     "data": {
      "image/png": "[encoded data removed]",
      "text/plain": [
       "<Figure size 864x360 with 2 Axes>"
      ]
     },
     "metadata": {
      "needs_background": "light"
     },
     "output_type": "display_data"
    }
   ],
   "source": [
    "#Heatmap\n",
    "plt.figure(figsize=(12,5))\n",
    "sns.heatmap(corr,annot=True)\n",
    "plt.show()\n",
    "     "
   ]
  },
  {
   "cell_type": "code",
   "execution_count": 116,
   "id": "4739dc29",
   "metadata": {},
   "outputs": [
    {
     "data": {
      "text/html": [
       "<div>\n",
       "<style scoped>\n",
       "    .dataframe tbody tr th:only-of-type {\n",
       "        vertical-align: middle;\n",
       "    }\n",
       "\n",
       "    .dataframe tbody tr th {\n",
       "        vertical-align: top;\n",
       "    }\n",
       "\n",
       "    .dataframe thead th {\n",
       "        text-align: right;\n",
       "    }\n",
       "</style>\n",
       "<table border=\"1\" class=\"dataframe\">\n",
       "  <thead>\n",
       "    <tr style=\"text-align: right;\">\n",
       "      <th></th>\n",
       "      <th>names</th>\n",
       "      <th>values</th>\n",
       "    </tr>\n",
       "  </thead>\n",
       "  <tbody>\n",
       "    <tr>\n",
       "      <th>5</th>\n",
       "      <td>Churn</td>\n",
       "      <td>1.000000</td>\n",
       "    </tr>\n",
       "    <tr>\n",
       "      <th>2</th>\n",
       "      <td>Subscription_Length_Months</td>\n",
       "      <td>0.002328</td>\n",
       "    </tr>\n",
       "    <tr>\n",
       "      <th>1</th>\n",
       "      <td>Age</td>\n",
       "      <td>0.001559</td>\n",
       "    </tr>\n",
       "    <tr>\n",
       "      <th>3</th>\n",
       "      <td>Monthly_Bill</td>\n",
       "      <td>-0.000211</td>\n",
       "    </tr>\n",
       "    <tr>\n",
       "      <th>4</th>\n",
       "      <td>Total_Usage_GB</td>\n",
       "      <td>-0.002842</td>\n",
       "    </tr>\n",
       "    <tr>\n",
       "      <th>0</th>\n",
       "      <td>CustomerID</td>\n",
       "      <td>-0.004586</td>\n",
       "    </tr>\n",
       "  </tbody>\n",
       "</table>\n",
       "</div>"
      ],
      "text/plain": [
       "                        names    values\n",
       "5                       Churn  1.000000\n",
       "2  Subscription_Length_Months  0.002328\n",
       "1                         Age  0.001559\n",
       "3                Monthly_Bill -0.000211\n",
       "4              Total_Usage_GB -0.002842\n",
       "0                  CustomerID -0.004586"
      ]
     },
     "execution_count": 116,
     "metadata": {},
     "output_type": "execute_result"
    }
   ],
   "source": [
    "#Ranking \n",
    "rank=pd.DataFrame(corr['Churn']).reset_index()\n",
    "rank.rename(columns={'index':'names','Churn':'values'},inplace=True)\n",
    "rank.sort_values(by='values',ascending=False,inplace=True)\n",
    "rank"
   ]
  },
  {
   "cell_type": "code",
   "execution_count": 117,
   "id": "58ed25fc",
   "metadata": {},
   "outputs": [],
   "source": [
    "# splitting the data\n",
    "x,y = scaled_df.iloc[:,:-1],scaled_df.iloc[:,-1]"
   ]
  },
  {
   "cell_type": "code",
   "execution_count": 118,
   "id": "be67f30e",
   "metadata": {},
   "outputs": [
    {
     "data": {
      "text/plain": [
       "((70000, 5), (70000,))"
      ]
     },
     "execution_count": 118,
     "metadata": {},
     "output_type": "execute_result"
    }
   ],
   "source": [
    "# splitting of data into train and test on 70:30\n",
    "\n",
    "x_train,x_test,y_train,y_test = train_test_split(x,y,test_size=0.3,random_state=9)\n",
    "x_train.shape,y_train.shape"
   ]
  },
  {
   "cell_type": "code",
   "execution_count": 119,
   "id": "30b1dfae",
   "metadata": {},
   "outputs": [
    {
     "data": {
      "text/plain": [
       "0    0.502943\n",
       "1    0.497057\n",
       "Name: Churn, dtype: float64"
      ]
     },
     "execution_count": 119,
     "metadata": {},
     "output_type": "execute_result"
    }
   ],
   "source": [
    "y_train.value_counts(normalize=True) # The target is imblanced so let's take precision score in CV\n"
   ]
  },
  {
   "cell_type": "markdown",
   "id": "d8e02c3b",
   "metadata": {},
   "source": [
    "# Modelling"
   ]
  },
  {
   "cell_type": "markdown",
   "id": "7d24d7c3",
   "metadata": {},
   "source": [
    "### ----> Loistic Regression :"
   ]
  },
  {
   "cell_type": "code",
   "execution_count": 120,
   "id": "88ac82e3",
   "metadata": {},
   "outputs": [],
   "source": [
    "# Logistic \n",
    "model_LR = LogisticRegression().fit(x_train,y_train)\n",
    "y_pred1 = model_LR.predict(x_test)"
   ]
  },
  {
   "cell_type": "code",
   "execution_count": 121,
   "id": "db4495a2",
   "metadata": {},
   "outputs": [
    {
     "data": {
      "text/plain": [
       "50.33"
      ]
     },
     "execution_count": 121,
     "metadata": {},
     "output_type": "execute_result"
    }
   ],
   "source": [
    "# Accuracy of the training data set\n",
    "train_accuracy = round(model_LR.score(x_train,y_train)*100,2)\n",
    "train_accuracy"
   ]
  },
  {
   "cell_type": "markdown",
   "id": "0eeff9cd",
   "metadata": {},
   "source": [
    "### --->Naive Bayes:"
   ]
  },
  {
   "cell_type": "code",
   "execution_count": 123,
   "id": "df794021",
   "metadata": {},
   "outputs": [
    {
     "name": "stdout",
     "output_type": "stream",
     "text": [
      "Accuaracy on train dataset : 50.42\n"
     ]
    }
   ],
   "source": [
    "# Naive\n",
    "# NB\n",
    "from sklearn.naive_bayes import GaussianNB \n",
    "model_NB = GaussianNB()\n",
    "model_NB.fit(x_train,y_train)\n",
    "y_pred2 = model_NB.predict(x_test)\n",
    "print(\"Accuaracy on train dataset :\",round(model_NB.score(x_train,y_train)*100,2))"
   ]
  },
  {
   "cell_type": "markdown",
   "id": "4009b772",
   "metadata": {},
   "source": [
    "### ----> Decision Tree :"
   ]
  },
  {
   "cell_type": "code",
   "execution_count": 124,
   "id": "e2b2714d",
   "metadata": {},
   "outputs": [
    {
     "name": "stdout",
     "output_type": "stream",
     "text": [
      "Accuaracy on train dataset : 51.03\n"
     ]
    }
   ],
   "source": [
    "# Decision tree\n",
    "from sklearn.tree import DecisionTreeClassifier\n",
    "model_DT = DecisionTreeClassifier(max_depth=6,\n",
    " min_samples_split=5,\n",
    " max_leaf_nodes=10) # After max depth 6 the acc is cons\n",
    "model_DT.fit(x_train,y_train)\n",
    "y_pred3 = model_DT.predict(x_test)\n",
    "print(\"Accuaracy on train dataset :\",round(model_DT.score(x_train,y_train)*100,2))"
   ]
  },
  {
   "cell_type": "markdown",
   "id": "8b63b8f1",
   "metadata": {},
   "source": [
    "### ----> Random Forest Bagging :"
   ]
  },
  {
   "cell_type": "markdown",
   "id": "ab681707",
   "metadata": {},
   "source": [
    "#### Hyper parameter tuning :"
   ]
  },
  {
   "cell_type": "code",
   "execution_count": 125,
   "id": "e1be3374",
   "metadata": {},
   "outputs": [],
   "source": [
    "# Hyperparameter tuning\n",
    "from sklearn.ensemble import RandomForestClassifier\n",
    "rf = RandomForestClassifier(random_state=42, n_jobs=-1)\n",
    "params = {'max_depth': [2,3,5,10,20],\n",
    " 'min_samples_leaf': [5,10,20,50,100,200],\n",
    " 'n_estimators': [10,25,30,50,100,200]\n",
    "}"
   ]
  },
  {
   "cell_type": "markdown",
   "id": "83dedd61",
   "metadata": {},
   "source": [
    "#### Grid search View :"
   ]
  },
  {
   "cell_type": "code",
   "execution_count": 126,
   "id": "ef8f026c",
   "metadata": {},
   "outputs": [],
   "source": [
    "from sklearn.model_selection import GridSearchCV\n",
    "# Instantiate the grid search model\n",
    "grid_search = GridSearchCV(estimator=rf,\n",
    " param_grid=params,\n",
    " cv = 4,\n",
    "n_jobs=-1, verbose=1, scoring=\"accuracy\")\n",
    "     "
   ]
  },
  {
   "cell_type": "code",
   "execution_count": 127,
   "id": "2548105e",
   "metadata": {},
   "outputs": [
    {
     "name": "stdout",
     "output_type": "stream",
     "text": [
      "Fitting 4 folds for each of 180 candidates, totalling 720 fits\n",
      "CPU times: total: 25.4 s\n",
      "Wall time: 9min 7s\n"
     ]
    },
    {
     "data": {
      "text/plain": [
       "GridSearchCV(cv=4, estimator=RandomForestClassifier(n_jobs=-1, random_state=42),\n",
       "             n_jobs=-1,\n",
       "             param_grid={'max_depth': [2, 3, 5, 10, 20],\n",
       "                         'min_samples_leaf': [5, 10, 20, 50, 100, 200],\n",
       "                         'n_estimators': [10, 25, 30, 50, 100, 200]},\n",
       "             scoring='accuracy', verbose=1)"
      ]
     },
     "execution_count": 127,
     "metadata": {},
     "output_type": "execute_result"
    }
   ],
   "source": [
    "\n",
    "%%time\n",
    "grid_search.fit(x_train, y_train)"
   ]
  },
  {
   "cell_type": "code",
   "execution_count": 129,
   "id": "7c3c87c8",
   "metadata": {},
   "outputs": [
    {
     "data": {
      "text/plain": [
       "0.5055857142857143"
      ]
     },
     "execution_count": 129,
     "metadata": {},
     "output_type": "execute_result"
    }
   ],
   "source": [
    "grid_search.best_score_\n"
   ]
  },
  {
   "cell_type": "code",
   "execution_count": 130,
   "id": "8ce68623",
   "metadata": {},
   "outputs": [
    {
     "data": {
      "text/plain": [
       "RandomForestClassifier(max_depth=5, min_samples_leaf=100, n_estimators=200,\n",
       "                       n_jobs=-1, random_state=42)"
      ]
     },
     "execution_count": 130,
     "metadata": {},
     "output_type": "execute_result"
    }
   ],
   "source": [
    "rf_best = grid_search.best_estimator_\n",
    "rf_best"
   ]
  },
  {
   "cell_type": "code",
   "execution_count": 131,
   "id": "0663f0c9",
   "metadata": {},
   "outputs": [
    {
     "name": "stdout",
     "output_type": "stream",
     "text": [
      "Accuaracy on train dataset : 52.68\n"
     ]
    }
   ],
   "source": [
    "# random forest\n",
    "model_Rf = RandomForestClassifier(random_state=42,min_samples_leaf=100, n_jobs=-1, max_depth=5, n_estimators=200, oob_score=True)\n",
    "model_Rf.fit(x_train,y_train)\n",
    "y_pred4 = model_Rf.predict(x_test)\n",
    "print(\"Accuaracy on train dataset :\",round(model_Rf.score(x_train,y_train)*100,2))"
   ]
  },
  {
   "cell_type": "markdown",
   "id": "41112663",
   "metadata": {},
   "source": [
    "### ----> Adaboost :"
   ]
  },
  {
   "cell_type": "code",
   "execution_count": 132,
   "id": "d12bf04f",
   "metadata": {},
   "outputs": [
    {
     "name": "stdout",
     "output_type": "stream",
     "text": [
      "Accuarcy : 51.68\n"
     ]
    }
   ],
   "source": [
    "# BOosting : Adaboost\n",
    "from sklearn.ensemble import AdaBoostClassifier\n",
    "\n",
    "model_AB = AdaBoostClassifier()\n",
    "model_AB.fit(x_train,y_train)\n",
    "y_pred5 = model_AB.predict(x_test)\n",
    "print(\"Accuarcy :\",round(model_AB.score(x_train,y_train)*100,2))\n",
    "     "
   ]
  },
  {
   "cell_type": "markdown",
   "id": "a444d857",
   "metadata": {},
   "source": [
    "### Cross Validation :"
   ]
  },
  {
   "cell_type": "code",
   "execution_count": 134,
   "id": "751638c4",
   "metadata": {},
   "outputs": [
    {
     "name": "stdout",
     "output_type": "stream",
     "text": [
      "LR : 0.494\n",
      "NB : 0.496\n",
      "DT : 0.511\n",
      "RF : 0.499\n",
      "AB : 0.496\n"
     ]
    }
   ],
   "source": [
    "#CV for Logistic Regression\n",
    "from sklearn.model_selection import RepeatedStratifiedKFold\n",
    "# evaluate the model\n",
    "cv = RepeatedStratifiedKFold(n_splits=10, n_repeats=3, random_state=1)\n",
    "n_scores1 = cross_val_score(model_LR, x, y, scoring='precision', cv=cv, n_jobs=-1, error_score='raise')\n",
    "print( \"LR :\" ,round(n_scores1.mean(),3))\n",
    "\n",
    "# Cv for Naive base:\n",
    "n_scores2 = cross_val_score(model_NB, x, y, scoring='precision', cv=cv, n_jobs=-1, error_score='raise')\n",
    "print( \"NB :\" ,round(n_scores2.mean(),3))\n",
    "\n",
    "# Cv for Decision Tree:\n",
    "n_scores3 = cross_val_score(model_DT, x, y, scoring='precision', cv=cv, n_jobs=-1, error_score='raise')\n",
    "print( \"DT :\" ,round(n_scores3.mean(),3))\n",
    "\n",
    "# Cv for Random Forest:\n",
    "n_scores4 = cross_val_score(model_Rf, x, y, scoring='precision', cv=cv, n_jobs=-1, error_score='raise')\n",
    "print( \"RF :\" ,round(n_scores4.mean(),3))\n",
    "\n",
    "# Cv for Adaboost:\n",
    "n_scores5 = cross_val_score(model_AB, x, y, scoring='precision', cv=cv, n_jobs=-1, error_score='raise')\n",
    "print( \"AB :\" ,round(n_scores5.mean(),3))"
   ]
  },
  {
   "cell_type": "markdown",
   "id": "6bf44997",
   "metadata": {},
   "source": [
    "Decison Tree has the highest cross validation score."
   ]
  },
  {
   "cell_type": "markdown",
   "id": "f4c160e1",
   "metadata": {},
   "source": [
    "### ROC Scores :"
   ]
  },
  {
   "cell_type": "code",
   "execution_count": 135,
   "id": "d7e052bb",
   "metadata": {},
   "outputs": [],
   "source": [
    "roc1 = roc_auc_score(y_test, model_LR.predict_proba(x_test)[:,1])\n",
    "roc2 = roc_auc_score(y_test, model_NB.predict_proba(x_test)[:,1])\n",
    "roc3 = roc_auc_score(y_test, model_DT.predict_proba(x_test)[:,1])\n",
    "roc4 = roc_auc_score(y_test, model_Rf.predict_proba(x_test)[:,1])\n",
    "roc5 = roc_auc_score(y_test, model_AB.predict_proba(x_test)[:,1])"
   ]
  },
  {
   "cell_type": "code",
   "execution_count": 136,
   "id": "903e90da",
   "metadata": {},
   "outputs": [
    {
     "name": "stdout",
     "output_type": "stream",
     "text": [
      "ROC of LR : 0.5\n",
      "ROC of NB : 0.5\n",
      "ROC of DT : 0.5\n",
      "ROC of RF : 0.5\n",
      "ROC of AB : 0.5\n"
     ]
    }
   ],
   "source": [
    "\n",
    "print(\"ROC of LR :\",round(roc1,2))\n",
    "print(\"ROC of NB :\",round(roc2,2))\n",
    "print(\"ROC of DT :\",round(roc3,2))\n",
    "print(\"ROC of RF :\",round(roc4,2))\n",
    "print(\"ROC of AB :\",round(roc5,2))"
   ]
  },
  {
   "cell_type": "markdown",
   "id": "1470b4e3",
   "metadata": {},
   "source": [
    "ROC scores are mostly similar to each other."
   ]
  },
  {
   "cell_type": "markdown",
   "id": "4a24ed0a",
   "metadata": {},
   "source": [
    "### ----> Performace metrix:"
   ]
  },
  {
   "cell_type": "code",
   "execution_count": 137,
   "id": "84d93a92",
   "metadata": {},
   "outputs": [
    {
     "name": "stdout",
     "output_type": "stream",
     "text": [
      "[[13558  1457]\n",
      " [13480  1505]]\n",
      "Logistic Regression : 13558 1457 13480 1505\n",
      "[[12588  2427]\n",
      " [12594  2391]]\n",
      "Naive base : 12588 2427 12594 2391\n",
      "[[11269  3746]\n",
      " [11236  3749]]\n",
      "Decision Tree : 11269 3746 11236 3749\n",
      "[[11226  3789]\n",
      " [11212  3773]]\n",
      "Random Forest : 11226 3789 11212 3773\n",
      "[[9437 5578]\n",
      " [9484 5501]]\n",
      "Adaboost : 9437 5578 9484 5501\n"
     ]
    }
   ],
   "source": [
    "\n",
    "# Confusion Matrix\n",
    "print(confusion_matrix(y_test,y_pred1))\n",
    "tn,fp,fn,tp = confusion_matrix(y_test,y_pred1).ravel()\n",
    "print( \"Logistic Regression :\" ,tn,fp,fn,tp)\n",
    "\n",
    "print(confusion_matrix(y_test,y_pred2))\n",
    "tn,fp,fn,tp = confusion_matrix(y_test,y_pred2).ravel()\n",
    "print( \"Naive base :\" ,tn,fp,fn,tp)\n",
    "\n",
    "print(confusion_matrix(y_test,y_pred3))\n",
    "tn,fp,fn,tp = confusion_matrix(y_test,y_pred3).ravel()\n",
    "print(\"Decision Tree :\",tn,fp,fn,tp)\n",
    "\n",
    "print(confusion_matrix(y_test,y_pred4))\n",
    "tn,fp,fn,tp = confusion_matrix(y_test,y_pred4).ravel()\n",
    "print( \"Random Forest :\",tn,fp,fn,tp)\n",
    "\n",
    "print(confusion_matrix(y_test,y_pred5))\n",
    "tn,fp,fn,tp = confusion_matrix(y_test,y_pred5).ravel()\n",
    "print(\"Adaboost :\" ,tn,fp,fn,tp)\n",
    "     "
   ]
  },
  {
   "cell_type": "code",
   "execution_count": 138,
   "id": "f504a91b",
   "metadata": {},
   "outputs": [
    {
     "name": "stdout",
     "output_type": "stream",
     "text": [
      "accuracy : 0.5\n",
      "recall : 0.1\n",
      "f1_score : 0.17\n",
      "precision : 0.51\n"
     ]
    }
   ],
   "source": [
    "# Logistic Regression\n",
    "print(\"accuracy :\",round(accuracy_score(y_test,y_pred1),2))\n",
    "print(\"recall :\",round(recall_score(y_test,y_pred1),2))\n",
    "print(\"f1_score :\",round(f1_score(y_test,y_pred1),2))\n",
    "print(\"precision :\",round(precision_score(y_test,y_pred1),2))"
   ]
  },
  {
   "cell_type": "code",
   "execution_count": 139,
   "id": "8a2a10c8",
   "metadata": {},
   "outputs": [
    {
     "name": "stdout",
     "output_type": "stream",
     "text": [
      "accuracy : 0.5\n",
      "recall : 0.16\n",
      "f1_score : 0.24\n",
      "precision : 0.5\n"
     ]
    }
   ],
   "source": [
    "# Naive base\n",
    "print(\"accuracy :\",round(accuracy_score(y_test,y_pred2),2))\n",
    "print(\"recall :\",round(recall_score(y_test,y_pred2),2))\n",
    "print(\"f1_score :\",round(f1_score(y_test,y_pred2),2))\n",
    "print(\"precision :\",round(precision_score(y_test,y_pred2),2))"
   ]
  },
  {
   "cell_type": "code",
   "execution_count": 140,
   "id": "195fd78a",
   "metadata": {},
   "outputs": [
    {
     "name": "stdout",
     "output_type": "stream",
     "text": [
      "accuracy : 0.5\n",
      "recall : 0.25\n",
      "f1_score : 0.33\n",
      "precision : 0.5\n"
     ]
    }
   ],
   "source": [
    "# Decision Tree\n",
    "print(\"accuracy :\",round(accuracy_score(y_test,y_pred3),2))\n",
    "print(\"recall :\",round(recall_score(y_test,y_pred3),2))\n",
    "print(\"f1_score :\",round(f1_score(y_test,y_pred3),2))\n",
    "print(\"precision :\",round(precision_score(y_test,y_pred3),2))"
   ]
  },
  {
   "cell_type": "code",
   "execution_count": 141,
   "id": "40ccc254",
   "metadata": {},
   "outputs": [
    {
     "name": "stdout",
     "output_type": "stream",
     "text": [
      "accuracy : 0.5\n",
      "recall : 0.25\n",
      "f1_score : 0.33\n",
      "precision : 0.5\n"
     ]
    }
   ],
   "source": [
    "# Random Forest\n",
    "print(\"accuracy :\",round(accuracy_score(y_test,y_pred4),2))\n",
    "print(\"recall :\",round(recall_score(y_test,y_pred4),2))\n",
    "print(\"f1_score :\",round(f1_score(y_test,y_pred4),2))\n",
    "print(\"precision :\",round(precision_score(y_test,y_pred4),2))"
   ]
  },
  {
   "cell_type": "code",
   "execution_count": 142,
   "id": "5bd563ad",
   "metadata": {},
   "outputs": [
    {
     "name": "stdout",
     "output_type": "stream",
     "text": [
      "accuracy : 0.5\n",
      "recall : 0.37\n",
      "f1_score : 0.42\n",
      "precision : 0.5\n"
     ]
    }
   ],
   "source": [
    "# Adaboost\n",
    "print(\"accuracy :\",round(accuracy_score(y_test,y_pred5),2))\n",
    "print(\"recall :\",round(recall_score(y_test,y_pred5),2))\n",
    "print(\"f1_score :\",round(f1_score(y_test,y_pred5),2))\n",
    "print(\"precision :\",round(precision_score(y_test,y_pred5),2))"
   ]
  },
  {
   "cell_type": "code",
   "execution_count": 143,
   "id": "7f6be3e1",
   "metadata": {},
   "outputs": [],
   "source": [
    "final_df = pd.DataFrame()"
   ]
  },
  {
   "cell_type": "code",
   "execution_count": 145,
   "id": "f9c39e07",
   "metadata": {},
   "outputs": [],
   "source": [
    "final_df['Models']=['LR','NB','DT','RF','AB']\n",
    "final_df['ROC_Score']=['0.5','0.5','0.5','0.5','0.5']\n",
    "final_df['CV_Score'] = ['0.494','0.496','0.511','0.499','0.496']\n",
    "final_df['Accuracy']=['0.5','0.5','0.5','0.5','0.5']\n",
    "final_df['Recall']=['0.1','0.16','0.25','0.25','0.37']\n",
    "final_df['f1'] = ['0.17','0.24','0.33','0.33','0.42']\n",
    "final_df['Precision']=['0.5','0.5','0.5','0.5','0.5']"
   ]
  },
  {
   "cell_type": "code",
   "execution_count": 146,
   "id": "fbce0820",
   "metadata": {},
   "outputs": [
    {
     "data": {
      "text/html": [
       "<div>\n",
       "<style scoped>\n",
       "    .dataframe tbody tr th:only-of-type {\n",
       "        vertical-align: middle;\n",
       "    }\n",
       "\n",
       "    .dataframe tbody tr th {\n",
       "        vertical-align: top;\n",
       "    }\n",
       "\n",
       "    .dataframe thead th {\n",
       "        text-align: right;\n",
       "    }\n",
       "</style>\n",
       "<table border=\"1\" class=\"dataframe\">\n",
       "  <thead>\n",
       "    <tr style=\"text-align: right;\">\n",
       "      <th></th>\n",
       "      <th>Models</th>\n",
       "      <th>ROC_Score</th>\n",
       "      <th>CV_Score</th>\n",
       "      <th>Accuracy</th>\n",
       "      <th>Recall</th>\n",
       "      <th>f1</th>\n",
       "      <th>Precision</th>\n",
       "    </tr>\n",
       "  </thead>\n",
       "  <tbody>\n",
       "    <tr>\n",
       "      <th>0</th>\n",
       "      <td>LR</td>\n",
       "      <td>0.5</td>\n",
       "      <td>0.494</td>\n",
       "      <td>0.5</td>\n",
       "      <td>0.1</td>\n",
       "      <td>0.17</td>\n",
       "      <td>0.5</td>\n",
       "    </tr>\n",
       "    <tr>\n",
       "      <th>1</th>\n",
       "      <td>NB</td>\n",
       "      <td>0.5</td>\n",
       "      <td>0.496</td>\n",
       "      <td>0.5</td>\n",
       "      <td>0.16</td>\n",
       "      <td>0.24</td>\n",
       "      <td>0.5</td>\n",
       "    </tr>\n",
       "    <tr>\n",
       "      <th>2</th>\n",
       "      <td>DT</td>\n",
       "      <td>0.5</td>\n",
       "      <td>0.511</td>\n",
       "      <td>0.5</td>\n",
       "      <td>0.25</td>\n",
       "      <td>0.33</td>\n",
       "      <td>0.5</td>\n",
       "    </tr>\n",
       "    <tr>\n",
       "      <th>3</th>\n",
       "      <td>RF</td>\n",
       "      <td>0.5</td>\n",
       "      <td>0.499</td>\n",
       "      <td>0.5</td>\n",
       "      <td>0.25</td>\n",
       "      <td>0.33</td>\n",
       "      <td>0.5</td>\n",
       "    </tr>\n",
       "    <tr>\n",
       "      <th>4</th>\n",
       "      <td>AB</td>\n",
       "      <td>0.5</td>\n",
       "      <td>0.496</td>\n",
       "      <td>0.5</td>\n",
       "      <td>0.37</td>\n",
       "      <td>0.42</td>\n",
       "      <td>0.5</td>\n",
       "    </tr>\n",
       "  </tbody>\n",
       "</table>\n",
       "</div>"
      ],
      "text/plain": [
       "  Models ROC_Score CV_Score Accuracy Recall    f1 Precision\n",
       "0     LR       0.5    0.494      0.5    0.1  0.17       0.5\n",
       "1     NB       0.5    0.496      0.5   0.16  0.24       0.5\n",
       "2     DT       0.5    0.511      0.5   0.25  0.33       0.5\n",
       "3     RF       0.5    0.499      0.5   0.25  0.33       0.5\n",
       "4     AB       0.5    0.496      0.5   0.37  0.42       0.5"
      ]
     },
     "execution_count": 146,
     "metadata": {},
     "output_type": "execute_result"
    }
   ],
   "source": [
    "# Final result dataframe to compare and select best model.\n",
    "final_df"
   ]
  },
  {
   "cell_type": "markdown",
   "id": "777c96a0",
   "metadata": {},
   "source": [
    "Where\n",
    "\n",
    "LR : Logistic Regression\n",
    "\n",
    "NB : NaiveBase\n",
    "\n",
    "DT : Decision Tree\n",
    "\n",
    "RF : RandomForest\n",
    "\n",
    "AB : Adaboost\n",
    "\n",
    "Conclusion: Here only aim is to get the good prediction of churned cutsomers.So,here recall and precision scores are most important performance metric rather than accuarcy.\n",
    "\n",
    "--->By observing the above data \"Decision tree\" has the high Roc score and cross validation score.so,here the Decision tree model will be the good model to predict churn custmers."
   ]
  },
  {
   "cell_type": "markdown",
   "id": "54c3a141",
   "metadata": {},
   "source": [
    "## Prediction on new data :"
   ]
  },
  {
   "cell_type": "code",
   "execution_count": 147,
   "id": "174b8a55",
   "metadata": {},
   "outputs": [
    {
     "name": "stdout",
     "output_type": "stream",
     "text": [
      "Enter age  :: (Range is 10 to 100 ) : 4\n",
      "Enter Gender :: (1 for Male , 0 for Female ) : 0\n",
      "Enter Subscription Length Moths :: (Range is 0 to 25) : 6\n",
      "Enter Monthly Bill :: (Range is 0 to 100) 45\n",
      "Enter Total usage of GB :: (Range is 0 to 500) : 455\n",
      "Customer will be leaft\n"
     ]
    },
    {
     "name": "stderr",
     "output_type": "stream",
     "text": [
      "D:\\python_software1\\lib\\site-packages\\sklearn\\base.py:450: UserWarning: X does not have valid feature names, but DecisionTreeClassifier was fitted with feature names\n",
      "  warnings.warn(\n"
     ]
    }
   ],
   "source": [
    "a =  float(input(\"Enter age  :: (Range is 10 to 100 ) : \"))\n",
    "b = float(input(\"Enter Gender :: (1 for Male , 0 for Female ) : \"))\n",
    "c = float(input(\"Enter Subscription Length Moths :: (Range is 0 to 25) : \"))\n",
    "d = float(input(\"Enter Monthly Bill :: (Range is 0 to 100) \"))\n",
    "e = float(input(\"Enter Total usage of GB :: (Range is 0 to 500) : \"))\n",
    "data = (a,b,c,b,e)\n",
    "input_Data = np.asarray(data)\n",
    "input_data_reshape = input_Data.reshape(1,5)\n",
    "scaler_1 = MinMaxScaler()\n",
    "std_data =scaler_1.fit_transform(input_data_reshape)\n",
    "ans = model_DT.predict(std_data)\n",
    "if (ans[0] == 0):  \n",
    "    print('Customer will not leaft')\n",
    "else:  \n",
    "    print('Customer will be leaft')"
   ]
  },
  {
   "cell_type": "markdown",
   "id": "9ce20d9c",
   "metadata": {},
   "source": [
    "Firstly I had used 5 classification models , then by doing cross validation and comparimg all the results Decision tree was good at predicting the data.So,i have choosen decisoon tree alorithm for deployment."
   ]
  },
  {
   "cell_type": "markdown",
   "id": "bba5e542",
   "metadata": {},
   "source": [
    "So,if we enter the required data our model will be able produce related results whether the customer will be churn or retained."
   ]
  },
  {
   "cell_type": "code",
   "execution_count": null,
   "id": "5a421e53",
   "metadata": {},
   "outputs": [],
   "source": []
  }
 ],
 "metadata": {
  "kernelspec": {
   "display_name": "Python 3 (ipykernel)",
   "language": "python",
   "name": "python3"
  },
  "language_info": {
   "codemirror_mode": {
    "name": "ipython",
    "version": 3
   },
   "file_extension": ".py",
   "mimetype": "text/x-python",
   "name": "python",
   "nbconvert_exporter": "python",
   "pygments_lexer": "ipython3",
   "version": "3.9.12"
  }
 },
 "nbformat": 4,
 "nbformat_minor": 5
}
